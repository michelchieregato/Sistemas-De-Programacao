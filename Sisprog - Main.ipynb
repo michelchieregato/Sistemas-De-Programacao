{
 "cells": [
  {
   "cell_type": "code",
   "execution_count": 250,
   "metadata": {
    "collapsed": true
   },
   "outputs": [],
   "source": [
    "import numpy as np\n",
    "from ctypes import c_uint8, c_uint16, c_int8"
   ]
  },
  {
   "cell_type": "code",
   "execution_count": 7,
   "metadata": {
    "collapsed": true
   },
   "outputs": [],
   "source": [
    "instrucoes = {\n",
    "    0x0: 2, 0x1: 2, 0x2: 2, 0x3: 1,\n",
    "    0x4: 2, 0x5: 2, 0x6: 2, 0x7: 2,\n",
    "    0x8: 2, 0x9: 2, 0xA: 2, 0xB: 1,\n",
    "    0xC: 1,\n",
    "}"
   ]
  },
  {
   "cell_type": "code",
   "execution_count": 8,
   "metadata": {},
   "outputs": [
    {
     "data": {
      "text/plain": [
       "2"
      ]
     },
     "execution_count": 8,
     "metadata": {},
     "output_type": "execute_result"
    }
   ],
   "source": [
    "instrucoes[0x0]"
   ]
  },
  {
   "cell_type": "code",
   "execution_count": 51,
   "metadata": {
    "collapsed": true
   },
   "outputs": [],
   "source": [
    "a = c_uint8(512)"
   ]
  },
  {
   "cell_type": "code",
   "execution_count": 52,
   "metadata": {},
   "outputs": [
    {
     "data": {
      "text/plain": [
       "512"
      ]
     },
     "execution_count": 52,
     "metadata": {},
     "output_type": "execute_result"
    }
   ],
   "source": [
    "256 * 2"
   ]
  },
  {
   "cell_type": "code",
   "execution_count": 53,
   "metadata": {
    "collapsed": true
   },
   "outputs": [],
   "source": [
    "a.value = 10000"
   ]
  },
  {
   "cell_type": "code",
   "execution_count": 55,
   "metadata": {},
   "outputs": [
    {
     "data": {
      "text/plain": [
       "16"
      ]
     },
     "execution_count": 55,
     "metadata": {},
     "output_type": "execute_result"
    }
   ],
   "source": [
    "a.value & 0xFFF"
   ]
  },
  {
   "cell_type": "code",
   "execution_count": 63,
   "metadata": {},
   "outputs": [
    {
     "data": {
      "text/plain": [
       "0"
      ]
     },
     "execution_count": 63,
     "metadata": {},
     "output_type": "execute_result"
    }
   ],
   "source": [
    "a.value >> 8"
   ]
  },
  {
   "cell_type": "code",
   "execution_count": 191,
   "metadata": {
    "collapsed": true
   },
   "outputs": [],
   "source": [
    "a = np.zeros(4096, dtype=np.uint8)"
   ]
  },
  {
   "cell_type": "code",
   "execution_count": 118,
   "metadata": {
    "collapsed": true
   },
   "outputs": [],
   "source": [
    "a[1] = 100"
   ]
  },
  {
   "cell_type": "code",
   "execution_count": 128,
   "metadata": {},
   "outputs": [
    {
     "data": {
      "text/plain": [
       "356"
      ]
     },
     "execution_count": 128,
     "metadata": {},
     "output_type": "execute_result"
    }
   ],
   "source": [
    "a[0] << 8 | a[1]"
   ]
  },
  {
   "cell_type": "code",
   "execution_count": 129,
   "metadata": {
    "collapsed": true
   },
   "outputs": [],
   "source": [
    "a = np.uint8(100)"
   ]
  },
  {
   "cell_type": "code",
   "execution_count": 134,
   "metadata": {
    "collapsed": true
   },
   "outputs": [],
   "source": [
    "a = np.uint8(257)"
   ]
  },
  {
   "cell_type": "code",
   "execution_count": 138,
   "metadata": {},
   "outputs": [
    {
     "data": {
      "text/plain": [
       "1"
      ]
     },
     "execution_count": 138,
     "metadata": {},
     "output_type": "execute_result"
    }
   ],
   "source": [
    "a & 0xFFf"
   ]
  },
  {
   "cell_type": "code",
   "execution_count": 152,
   "metadata": {},
   "outputs": [
    {
     "data": {
      "text/plain": [
       "0"
      ]
     },
     "execution_count": 152,
     "metadata": {},
     "output_type": "execute_result"
    }
   ],
   "source": [
    "np.uint16(4096) & 0xfff"
   ]
  },
  {
   "cell_type": "code",
   "execution_count": 166,
   "metadata": {},
   "outputs": [
    {
     "data": {
      "text/plain": [
       "65535"
      ]
     },
     "execution_count": 166,
     "metadata": {},
     "output_type": "execute_result"
    }
   ],
   "source": [
    "255 << 8 | 255"
   ]
  },
  {
   "cell_type": "code",
   "execution_count": 184,
   "metadata": {},
   "outputs": [
    {
     "data": {
      "text/plain": [
       "925"
      ]
     },
     "execution_count": 184,
     "metadata": {},
     "output_type": "execute_result"
    }
   ],
   "source": [
    "925"
   ]
  },
  {
   "cell_type": "code",
   "execution_count": 185,
   "metadata": {},
   "outputs": [
    {
     "data": {
      "text/plain": [
       "3"
      ]
     },
     "execution_count": 185,
     "metadata": {},
     "output_type": "execute_result"
    }
   ],
   "source": [
    "925 >> 8"
   ]
  },
  {
   "cell_type": "code",
   "execution_count": 192,
   "metadata": {
    "collapsed": true
   },
   "outputs": [],
   "source": [
    "a[0] = 925 >> 8"
   ]
  },
  {
   "cell_type": "code",
   "execution_count": 195,
   "metadata": {
    "collapsed": true
   },
   "outputs": [],
   "source": [
    "a[1] = 925"
   ]
  },
  {
   "cell_type": "code",
   "execution_count": 196,
   "metadata": {},
   "outputs": [
    {
     "data": {
      "text/plain": [
       "array([  3, 157], dtype=uint8)"
      ]
     },
     "execution_count": 196,
     "metadata": {},
     "output_type": "execute_result"
    }
   ],
   "source": [
    "a[:2]"
   ]
  },
  {
   "cell_type": "code",
   "execution_count": 197,
   "metadata": {},
   "outputs": [
    {
     "data": {
      "text/plain": [
       "925"
      ]
     },
     "execution_count": 197,
     "metadata": {},
     "output_type": "execute_result"
    }
   ],
   "source": [
    "a[0] << 8 | a[1]"
   ]
  },
  {
   "cell_type": "code",
   "execution_count": 198,
   "metadata": {},
   "outputs": [
    {
     "data": {
      "text/plain": [
       "31"
      ]
     },
     "execution_count": 198,
     "metadata": {},
     "output_type": "execute_result"
    }
   ],
   "source": [
    "0b11111"
   ]
  },
  {
   "cell_type": "code",
   "execution_count": 199,
   "metadata": {},
   "outputs": [
    {
     "data": {
      "text/plain": [
       "'0b10'"
      ]
     },
     "execution_count": 199,
     "metadata": {},
     "output_type": "execute_result"
    }
   ],
   "source": [
    "bin(2)"
   ]
  },
  {
   "cell_type": "code",
   "execution_count": 352,
   "metadata": {
    "collapsed": true
   },
   "outputs": [],
   "source": [
    "file = './src/files/loader.asm'"
   ]
  },
  {
   "cell_type": "code",
   "execution_count": 353,
   "metadata": {},
   "outputs": [],
   "source": [
    "with open(file, 'r') as f:\n",
    "    read_file = f.readlines()"
   ]
  },
  {
   "cell_type": "code",
   "execution_count": 354,
   "metadata": {},
   "outputs": [
    {
     "data": {
      "text/plain": [
       "['        @   0\\n',\n",
       " 'INIT    IO  1        ; Get Data from device\\n',\n",
       " '        MM  IADDR     ; Save first byte of initial address\\n',\n",
       " '        IO  1\\n',\n",
       " '        MM  IADDR+1   ; Save second byte of initial address\\n',\n",
       " '        IO  1\\n',\n",
       " '        MM  SIZE      ; Save size\\n',\n",
       " '\\n',\n",
       " 'LOOP    IO  1        ; Read byte from file\\n',\n",
       " '        CN  2        ; Activate Indirect Mode\\n',\n",
       " '        MM  IADDR     ; Indirect move to current address\\n',\n",
       " '\\n',\n",
       " '        LD  IADDR+1   ; Get current address\\n',\n",
       " '        +   ONE       ; Sum 1\\n',\n",
       " '        MM  IADDR+1   ; Put it back\\n',\n",
       " '\\n',\n",
       " '        LD  SIZE      ; Get size\\n',\n",
       " '        -   ONE      ; Subtract 1\\n',\n",
       " '        MM  SIZE      ; Put it back\\n',\n",
       " '\\n',\n",
       " '        JZ  END       ; Finish if size = 0\\n',\n",
       " '        JP  LOOP\\n',\n",
       " '\\n',\n",
       " 'END     OS  /F        ; End Program\\n',\n",
       " '\\n',\n",
       " 'IADDR   K   0\\n',\n",
       " '        K   0\\n',\n",
       " 'SIZE    K   0\\n',\n",
       " 'ONE     K   1\\n',\n",
       " '        # INIT']"
      ]
     },
     "execution_count": 354,
     "metadata": {},
     "output_type": "execute_result"
    }
   ],
   "source": [
    "read_file"
   ]
  },
  {
   "cell_type": "code",
   "execution_count": 307,
   "metadata": {
    "collapsed": true
   },
   "outputs": [],
   "source": [
    "def prepare_line(line):\n",
    "    if line == '':\n",
    "        return\n",
    "    return line.split(';')[0].strip()"
   ]
  },
  {
   "cell_type": "code",
   "execution_count": 355,
   "metadata": {
    "collapsed": true
   },
   "outputs": [],
   "source": [
    "codigo = [*filter(lambda line: len(line), map(lambda x: prepare_line(x).split(), read_file))]"
   ]
  },
  {
   "cell_type": "code",
   "execution_count": 356,
   "metadata": {},
   "outputs": [
    {
     "data": {
      "text/plain": [
       "[['@', '0'],\n",
       " ['INIT', 'IO', '1'],\n",
       " ['MM', 'IADDR'],\n",
       " ['IO', '1'],\n",
       " ['MM', 'IADDR+1'],\n",
       " ['IO', '1'],\n",
       " ['MM', 'SIZE'],\n",
       " ['LOOP', 'IO', '1'],\n",
       " ['CN', '2'],\n",
       " ['MM', 'IADDR'],\n",
       " ['LD', 'IADDR+1'],\n",
       " ['+', 'ONE'],\n",
       " ['MM', 'IADDR+1'],\n",
       " ['LD', 'SIZE'],\n",
       " ['-', 'ONE'],\n",
       " ['MM', 'SIZE'],\n",
       " ['JZ', 'END'],\n",
       " ['JP', 'LOOP'],\n",
       " ['END', 'OS', '/F'],\n",
       " ['IADDR', 'K', '0'],\n",
       " ['K', '0'],\n",
       " ['SIZE', 'K', '0'],\n",
       " ['ONE', 'K', '1'],\n",
       " ['#', 'INIT']]"
      ]
     },
     "execution_count": 356,
     "metadata": {},
     "output_type": "execute_result"
    }
   ],
   "source": [
    "codigo"
   ]
  },
  {
   "cell_type": "code",
   "execution_count": 310,
   "metadata": {
    "collapsed": true
   },
   "outputs": [],
   "source": [
    "linha_de_codigo = codigo[1]"
   ]
  },
  {
   "cell_type": "code",
   "execution_count": 311,
   "metadata": {},
   "outputs": [
    {
     "data": {
      "text/plain": [
       "['INIT', 'IO', '1']"
      ]
     },
     "execution_count": 311,
     "metadata": {},
     "output_type": "execute_result"
    }
   ],
   "source": [
    "linha_de_codigo"
   ]
  },
  {
   "cell_type": "code",
   "execution_count": 312,
   "metadata": {},
   "outputs": [],
   "source": [
    "for linha in codigo:\n",
    "    if len(linha) == 2:\n",
    "        linha.insert(0, '')"
   ]
  },
  {
   "cell_type": "code",
   "execution_count": 314,
   "metadata": {},
   "outputs": [],
   "source": [
    "aux = pd.DataFrame(codigo, columns=['Label', 'Operacao', 'Operador'])"
   ]
  },
  {
   "cell_type": "code",
   "execution_count": 315,
   "metadata": {
    "collapsed": true
   },
   "outputs": [],
   "source": [
    "linha_de_codigo = aux.iloc[0]"
   ]
  },
  {
   "cell_type": "code",
   "execution_count": 330,
   "metadata": {},
   "outputs": [
    {
     "data": {
      "text/plain": [
       "0"
      ]
     },
     "execution_count": 330,
     "metadata": {},
     "output_type": "execute_result"
    }
   ],
   "source": [
    "linha_de_codigo['Operador']"
   ]
  },
  {
   "cell_type": "code",
   "execution_count": 322,
   "metadata": {},
   "outputs": [],
   "source": [
    "tabela.append(['', '', lin])"
   ]
  },
  {
   "cell_type": "code",
   "execution_count": 309,
   "metadata": {
    "collapsed": true
   },
   "outputs": [],
   "source": [
    "tabela = pd.DataFrame(columns=['Endereco', 'Valor', 'Codigo'])"
   ]
  },
  {
   "cell_type": "code",
   "execution_count": 331,
   "metadata": {},
   "outputs": [
    {
     "data": {
      "text/plain": [
       "Label        \n",
       "Operacao    @\n",
       "Operador    0\n",
       "Name: 0, dtype: object"
      ]
     },
     "execution_count": 331,
     "metadata": {},
     "output_type": "execute_result"
    }
   ],
   "source": [
    "linha_de_codigo"
   ]
  },
  {
   "cell_type": "code",
   "execution_count": 343,
   "metadata": {},
   "outputs": [
    {
     "name": "stdout",
     "output_type": "stream",
     "text": [
      "1\n"
     ]
    }
   ],
   "source": [
    "if 'a':\n",
    "    print(1)"
   ]
  },
  {
   "cell_type": "code",
   "execution_count": 409,
   "metadata": {
    "collapsed": true
   },
   "outputs": [],
   "source": [
    "import pandas as pd\n",
    "import numpy as np\n",
    "\n",
    "OPERACOES = {\n",
    "    \"JP\": 0x0, \"JZ\": 0x1, \"JN\": 0x2, \"CN\": 0x3,\n",
    "    \"+\": 0x4, \"-\": 0x5, \"*\": 0x6, \"/\": 0x7,\n",
    "    \"LD\": 0x8, \"MM\": 0x9, \"SC\": 0xA, \"OS\": 0xB,\n",
    "    \"IO\": 0xC,\n",
    "}\n",
    "\n",
    "TAMANHO_DAS_OPERACOES = {\n",
    "    \"JP\": 2, \"JZ\": 2, \"JN\": 2, \"CN\": 1,\n",
    "    \"+\": 2, \"-\": 2, \"*\": 2, \"/\": 2,\n",
    "    \"LD\": 2, \"MM\": 2, \"SC\": 2, \"OS\": 1,\n",
    "    \"IO\": 1,\n",
    "}\n",
    "\n",
    "\n",
    "def prepare_line(line):\n",
    "    if line == '':\n",
    "        return\n",
    "    return line.split(';')[0].strip()\n",
    "\n",
    "\n",
    "def try_to_make_int(op):\n",
    "    try:\n",
    "        return int(op)\n",
    "    except:\n",
    "        return op\n",
    "\n",
    "\n",
    "class Montador(object):\n",
    "    def __init__(self, file):\n",
    "\n",
    "        with open(file, 'r') as f:\n",
    "            read_file = f.readlines()\n",
    "\n",
    "        codigo = [*filter(lambda line: len(line), map(lambda x: prepare_line(x).split(), read_file))]\n",
    "\n",
    "        for linha in codigo:\n",
    "            if len(linha) == 2:\n",
    "                linha.insert(0, '')\n",
    "\n",
    "        self.contador_de_instrucoes = 0\n",
    "        self.codigo_tabelado = pd.DataFrame(codigo, columns=['Label', 'Operacao', 'Operador'])\n",
    "        self.codigo_tabelado['Operador'] = self.codigo_tabelado['Operador'].apply(lambda op: try_to_make_int(op))\n",
    "\n",
    "        self.tabela_final = pd.DataFrame(columns=['End', 'Obj', 'Linha', 'Codigo'])\n",
    "        self.tabela_labels = pd.DataFrame(columns=['Label', 'Valor'])\n",
    "\n",
    "        self.inicio_do_programa = 0\n",
    "\n",
    "    def montar(self):\n",
    "        self.primeiro_passo()\n",
    "\n",
    "    def primeiro_passo(self):\n",
    "        for index, linha_de_codigo in self.codigo_tabelado.iterrows():\n",
    "            if linha_de_codigo['Label']:\n",
    "                self.tabela_labels.loc[len(self.tabela_labels)] = [linha_de_codigo['Label'], hex(self.contador_de_instrucoes)]\n",
    "\n",
    "            if linha_de_codigo['Operacao'] == '@':\n",
    "                self.inicio_do_programa = self.contador_de_instrucoes = linha_de_codigo['Operador']\n",
    "                self.tabela_final.loc[index] =[\n",
    "                    '',\n",
    "                    '',\n",
    "                    index+1,\n",
    "                    ' '.join(linha_de_codigo.apply(str).values).strip()\n",
    "                ]\n",
    "            elif linha_de_codigo['Operacao'] == '$':\n",
    "                self.tabela_final.loc[index] =[\n",
    "                    hex(self.contador_de_instrucoes),\n",
    "                    hex(linha_de_codigo['Operador']),\n",
    "                    index+1,\n",
    "                    ' '.join(linha_de_codigo.apply(str).values).strip()\n",
    "                ]\n",
    "                self.contador_de_instrucoes += linha_de_codigo['Operador']\n",
    "            elif linha_de_codigo['Operacao'] == 'K':\n",
    "                self.tabela_final.loc[index] =[\n",
    "                    hex(self.contador_de_instrucoes),\n",
    "                    hex(linha_de_codigo['Operador']),\n",
    "                    index+1,\n",
    "                    ' '.join(linha_de_codigo.apply(str).values).strip()\n",
    "                ]\n",
    "                self.contador_de_instrucoes += 1\n",
    "            elif linha_de_codigo['Operacao'] == '#':\n",
    "                continue\n",
    "            else:\n",
    "                self.contador_de_instrucoes += TAMANHO_DAS_OPERACOES[linha_de_codigo['Operacao']]\n",
    "\n",
    "    def segundo_passo(self):\n",
    "        pass"
   ]
  },
  {
   "cell_type": "code",
   "execution_count": 410,
   "metadata": {},
   "outputs": [],
   "source": [
    "montador = Montador(file='./src/files/loader.asm')"
   ]
  },
  {
   "cell_type": "code",
   "execution_count": 411,
   "metadata": {
    "collapsed": true
   },
   "outputs": [],
   "source": [
    "montador.montar()"
   ]
  },
  {
   "cell_type": "code",
   "execution_count": 412,
   "metadata": {},
   "outputs": [
    {
     "data": {
      "text/html": [
       "<div>\n",
       "<style scoped>\n",
       "    .dataframe tbody tr th:only-of-type {\n",
       "        vertical-align: middle;\n",
       "    }\n",
       "\n",
       "    .dataframe tbody tr th {\n",
       "        vertical-align: top;\n",
       "    }\n",
       "\n",
       "    .dataframe thead th {\n",
       "        text-align: right;\n",
       "    }\n",
       "</style>\n",
       "<table border=\"1\" class=\"dataframe\">\n",
       "  <thead>\n",
       "    <tr style=\"text-align: right;\">\n",
       "      <th></th>\n",
       "      <th>End</th>\n",
       "      <th>Obj</th>\n",
       "      <th>Linha</th>\n",
       "      <th>Codigo</th>\n",
       "    </tr>\n",
       "  </thead>\n",
       "  <tbody>\n",
       "    <tr>\n",
       "      <th>0</th>\n",
       "      <td></td>\n",
       "      <td></td>\n",
       "      <td>1</td>\n",
       "      <td>@ 0</td>\n",
       "    </tr>\n",
       "    <tr>\n",
       "      <th>19</th>\n",
       "      <td>0x1e</td>\n",
       "      <td>0x0</td>\n",
       "      <td>20</td>\n",
       "      <td>IADDR K 0</td>\n",
       "    </tr>\n",
       "    <tr>\n",
       "      <th>20</th>\n",
       "      <td>0x1f</td>\n",
       "      <td>0x0</td>\n",
       "      <td>21</td>\n",
       "      <td>K 0</td>\n",
       "    </tr>\n",
       "    <tr>\n",
       "      <th>21</th>\n",
       "      <td>0x20</td>\n",
       "      <td>0x0</td>\n",
       "      <td>22</td>\n",
       "      <td>SIZE K 0</td>\n",
       "    </tr>\n",
       "    <tr>\n",
       "      <th>22</th>\n",
       "      <td>0x21</td>\n",
       "      <td>0x1</td>\n",
       "      <td>23</td>\n",
       "      <td>ONE K 1</td>\n",
       "    </tr>\n",
       "  </tbody>\n",
       "</table>\n",
       "</div>"
      ],
      "text/plain": [
       "     End  Obj Linha     Codigo\n",
       "0                 1        @ 0\n",
       "19  0x1e  0x0    20  IADDR K 0\n",
       "20  0x1f  0x0    21        K 0\n",
       "21  0x20  0x0    22   SIZE K 0\n",
       "22  0x21  0x1    23    ONE K 1"
      ]
     },
     "execution_count": 412,
     "metadata": {},
     "output_type": "execute_result"
    }
   ],
   "source": [
    "montador.tabela_final"
   ]
  },
  {
   "cell_type": "code",
   "execution_count": 413,
   "metadata": {},
   "outputs": [
    {
     "data": {
      "text/html": [
       "<div>\n",
       "<style scoped>\n",
       "    .dataframe tbody tr th:only-of-type {\n",
       "        vertical-align: middle;\n",
       "    }\n",
       "\n",
       "    .dataframe tbody tr th {\n",
       "        vertical-align: top;\n",
       "    }\n",
       "\n",
       "    .dataframe thead th {\n",
       "        text-align: right;\n",
       "    }\n",
       "</style>\n",
       "<table border=\"1\" class=\"dataframe\">\n",
       "  <thead>\n",
       "    <tr style=\"text-align: right;\">\n",
       "      <th></th>\n",
       "      <th>Label</th>\n",
       "      <th>Valor</th>\n",
       "    </tr>\n",
       "  </thead>\n",
       "  <tbody>\n",
       "    <tr>\n",
       "      <th>0</th>\n",
       "      <td>INIT</td>\n",
       "      <td>0x0</td>\n",
       "    </tr>\n",
       "    <tr>\n",
       "      <th>1</th>\n",
       "      <td>LOOP</td>\n",
       "      <td>0x9</td>\n",
       "    </tr>\n",
       "    <tr>\n",
       "      <th>2</th>\n",
       "      <td>END</td>\n",
       "      <td>0x1d</td>\n",
       "    </tr>\n",
       "    <tr>\n",
       "      <th>3</th>\n",
       "      <td>IADDR</td>\n",
       "      <td>0x1e</td>\n",
       "    </tr>\n",
       "    <tr>\n",
       "      <th>4</th>\n",
       "      <td>SIZE</td>\n",
       "      <td>0x20</td>\n",
       "    </tr>\n",
       "    <tr>\n",
       "      <th>5</th>\n",
       "      <td>ONE</td>\n",
       "      <td>0x21</td>\n",
       "    </tr>\n",
       "  </tbody>\n",
       "</table>\n",
       "</div>"
      ],
      "text/plain": [
       "   Label Valor\n",
       "0   INIT   0x0\n",
       "1   LOOP   0x9\n",
       "2    END  0x1d\n",
       "3  IADDR  0x1e\n",
       "4   SIZE  0x20\n",
       "5    ONE  0x21"
      ]
     },
     "execution_count": 413,
     "metadata": {},
     "output_type": "execute_result"
    }
   ],
   "source": [
    "montador.tabela_labels"
   ]
  },
  {
   "cell_type": "code",
   "execution_count": null,
   "metadata": {
    "collapsed": true
   },
   "outputs": [],
   "source": []
  },
  {
   "cell_type": "code",
   "execution_count": null,
   "metadata": {
    "collapsed": true
   },
   "outputs": [],
   "source": []
  },
  {
   "cell_type": "code",
   "execution_count": null,
   "metadata": {
    "collapsed": true
   },
   "outputs": [],
   "source": []
  },
  {
   "cell_type": "code",
   "execution_count": null,
   "metadata": {
    "collapsed": true
   },
   "outputs": [],
   "source": []
  },
  {
   "cell_type": "code",
   "execution_count": null,
   "metadata": {
    "collapsed": true
   },
   "outputs": [],
   "source": []
  },
  {
   "cell_type": "code",
   "execution_count": null,
   "metadata": {
    "collapsed": true
   },
   "outputs": [],
   "source": []
  },
  {
   "cell_type": "code",
   "execution_count": null,
   "metadata": {
    "collapsed": true
   },
   "outputs": [],
   "source": []
  },
  {
   "cell_type": "code",
   "execution_count": null,
   "metadata": {
    "collapsed": true
   },
   "outputs": [],
   "source": []
  },
  {
   "cell_type": "code",
   "execution_count": null,
   "metadata": {
    "collapsed": true
   },
   "outputs": [],
   "source": []
  },
  {
   "cell_type": "code",
   "execution_count": null,
   "metadata": {
    "collapsed": true
   },
   "outputs": [],
   "source": []
  },
  {
   "cell_type": "code",
   "execution_count": null,
   "metadata": {
    "collapsed": true
   },
   "outputs": [],
   "source": []
  },
  {
   "cell_type": "code",
   "execution_count": null,
   "metadata": {
    "collapsed": true
   },
   "outputs": [],
   "source": []
  },
  {
   "cell_type": "code",
   "execution_count": null,
   "metadata": {
    "collapsed": true
   },
   "outputs": [],
   "source": []
  },
  {
   "cell_type": "code",
   "execution_count": null,
   "metadata": {
    "collapsed": true
   },
   "outputs": [],
   "source": []
  },
  {
   "cell_type": "code",
   "execution_count": null,
   "metadata": {
    "collapsed": true
   },
   "outputs": [],
   "source": []
  },
  {
   "cell_type": "code",
   "execution_count": null,
   "metadata": {
    "collapsed": true
   },
   "outputs": [],
   "source": []
  },
  {
   "cell_type": "code",
   "execution_count": null,
   "metadata": {
    "collapsed": true
   },
   "outputs": [],
   "source": []
  },
  {
   "cell_type": "code",
   "execution_count": null,
   "metadata": {
    "collapsed": true
   },
   "outputs": [],
   "source": []
  },
  {
   "cell_type": "markdown",
   "metadata": {},
   "source": [
    "## Exemplo"
   ]
  },
  {
   "cell_type": "code",
   "execution_count": 290,
   "metadata": {
    "collapsed": true
   },
   "outputs": [],
   "source": [
    "## Assembler\n",
    "\n",
    "import logging\n",
    "import glob\n",
    "import os\n",
    "import sys\n",
    "\n",
    "from ctypes import c_uint8\n",
    "\n",
    "fmt = '[{levelname:7s}] {name:s}: {message:s}'\n",
    "logger = logging.getLogger(__name__)\n",
    "\n",
    "\n",
    "class AssemblyError(Exception):\n",
    "    pass\n",
    "\n",
    "\n",
    "class Assembler:\n",
    "    # (Object Code, Size)\n",
    "    mnemonics_table = {\n",
    "        \"JP\": (0x0, 2), \"JZ\": (0x1, 2), \"JN\": (0x2, 2), \"CN\": (0x3, 1),\n",
    "        \"+\": (0x4, 2), \"-\": (0x5, 2), \"*\": (0x6, 2), \"/\": (0x7, 2),\n",
    "        \"LD\": (0x8, 2), \"MM\": (0x9, 2), \"SC\": (0xA, 2), \"OS\": (0xB, 1),\n",
    "        \"IO\": (0xC, 1),\n",
    "    }\n",
    "\n",
    "    pseudo_table = ['@', '#', '$', 'K']\n",
    "\n",
    "    def __init__(self, filen=None, make_list=True, dump_tables=True):\n",
    "        if not filen:\n",
    "            raise RuntimeError('File name not provided to Assembler')\n",
    "\n",
    "        logger.debug('Initializing Assembler')\n",
    "\n",
    "        # Removes file extension\n",
    "        self.filename = '.'.join(filen.split('.')[:-1])\n",
    "        logger.debug('Base filename: %s', self.filename)\n",
    "\n",
    "        self.labels = {}\n",
    "        self.obj_code = []\n",
    "        self.instruction_counter = 0\n",
    "        self.initial_address = 0\n",
    "        self.current_object_file = 0\n",
    "\n",
    "        try:\n",
    "            with open(filen, 'r') as f:\n",
    "                all_lines = f.readlines()\n",
    "        except FileNotFoundError:\n",
    "            logger.error('File %s not found', filen)\n",
    "            raise AssemblyError('File not found')\n",
    "        except UnicodeDecodeError:\n",
    "            raise AssemblyError('Certifique-se que não há letras acentuadas no arquivo!')\n",
    "\n",
    "        logger.debug('Preprocessing file')\n",
    "        self.lines = []\n",
    "        for i, line in enumerate(all_lines):\n",
    "            # Separate comments\n",
    "            command, comment = (l.strip() for l in line.split(';')) if ';' in line else (line.strip(), '')\n",
    "            if command == '' and comment == '':  # skip blank lines\n",
    "                continue\n",
    "\n",
    "            l = command.split()\n",
    "            self.lines.append((i + 1, l, comment))\n",
    "        logger.debug('Finished preprocessing')\n",
    "\n",
    "        self.list_file = None\n",
    "        if (make_list):\n",
    "            self.list_file = self.filename + '.lst'\n",
    "\n",
    "            with open(self.list_file, 'w') as f:\n",
    "                print('{} LIST FILE'.format(self.list_file), file=f)\n",
    "                print('{}-----------'.format('-' * len(self.list_file)), file=f)\n",
    "                print('ADDRESS   OBJECT    LINE   SOURCE', file=f)\n",
    "\n",
    "        self.lb_table_file = None\n",
    "        if (dump_tables):\n",
    "            self.lb_table_file = self.filename + '.asm.labels'\n",
    "\n",
    "            with open(self.lb_table_file, 'w') as f:\n",
    "                print('{} LABEL TABLE FILE'.format(self.lb_table_file), file=f)\n",
    "                print('{}-----------------'.format('-' * len(self.lb_table_file)), file=f)\n",
    "                print('LABEL           VALUE', file=f)\n",
    "\n",
    "        self.obj_file = self.filename + '.obj'\n",
    "        for f in glob.glob(self.obj_file + '.*'):\n",
    "            os.remove(f)\n",
    "\n",
    "    def assemble(self):\n",
    "        for self.step in [1, 2]:\n",
    "            logger.debug('Initializing Step %d', self.step)\n",
    "\n",
    "            self.instruction_counter = 0\n",
    "            for lineno, code, comment in self.lines:\n",
    "                # logger.debug('Processing line %d', lineno)\n",
    "\n",
    "                if len(code) == 0:  # Comment only, do nothing on first step\n",
    "                    if self.step == 2:\n",
    "                        self.list(line=lineno, comment=comment)\n",
    "\n",
    "                elif len(code) == 1:  # Label only\n",
    "                    if self.step == 2:\n",
    "                        self.list(line=lineno, comment=comment, code=code, address=self.instruction_counter)\n",
    "                        continue\n",
    "\n",
    "                    label = code[0]\n",
    "                    if label in [*self.mnemonics_table, *self.pseudo_table]:  # Lonely operation\n",
    "                        raise AssemblyError(\n",
    "                            'Assembly error on line {:d} \"{}\": operation must have operator'.format(lineno,\n",
    "                                                                                                    ' '.join(code)))\n",
    "\n",
    "                    if label in self.labels and self.labels[label] is not None:  # Label already defined\n",
    "                        raise AssemblyError(\n",
    "                            'Assembly error on line {:d} label \"{}\" already defined'.format(lineno, label))\n",
    "\n",
    "                    self.labels[label] = self.instruction_counter\n",
    "\n",
    "                elif len(code) == 2:  # Operation and Operator\n",
    "                    self.process_code(lineno, code, comment)\n",
    "\n",
    "                elif len(code) == 3:  # Label, Operation and Operator\n",
    "                    if self.step == 1:\n",
    "                        label = code[0]\n",
    "                        if label in [*self.mnemonics_table, *self.pseudo_table]:  # First element should be label\n",
    "                            raise AssemblyError(\n",
    "                                'Assembly error on line {:d} \"{}\": operation on label position'.format(lineno,\n",
    "                                                                                                       ' '.join(code)))\n",
    "\n",
    "                        if label in self.labels and self.labels[label] is not None:  # Label already defined\n",
    "                            raise AssemblyError(\n",
    "                                'Assembly error on line {:d} label \"{}\" already defined'.format(lineno, label))\n",
    "\n",
    "                        self.labels[label] = self.instruction_counter\n",
    "\n",
    "                    self.process_code(lineno, code, comment)\n",
    "\n",
    "                else:\n",
    "                    raise AssemblyError('Assembly error on line {:d}: Too many things!!'.format(lineno))\n",
    "\n",
    "            logger.debug('Finished Step %d', self.step)\n",
    "            self.dump_label_table()\n",
    "            self.save_obj()\n",
    "\n",
    "    def process_code(self, lineno, code, comment):\n",
    "        print('Aquiiiiii')\n",
    "        print(code)\n",
    "        operation = code[-2]\n",
    "        if operation not in [*self.mnemonics_table, *self.pseudo_table]:  # Unknown operation\n",
    "            raise AssemblyError('Assembly error on line {:d}: Unknown operation \"{}\"'.format(lineno, operation))\n",
    "\n",
    "        try:\n",
    "            operator = int(code[-1])  # try decimal\n",
    "        except ValueError:\n",
    "            try:\n",
    "                if code[-1][0] == '/':\n",
    "                    operator = int(code[-1][1:], 16)  # try hex\n",
    "                else:\n",
    "                    raise\n",
    "            except ValueError:  # label\n",
    "                lb = code[-1].partition('+') if '+' in code[-1] else code[-1].partition('-') if '-' in code[-1] else [\n",
    "                    code[-1]]\n",
    "                if self.step == 1:\n",
    "                    if lb[0] not in self.labels:\n",
    "                        self.labels[lb[0]] = None\n",
    "                    operator = None\n",
    "                elif self.step == 2:\n",
    "                    if self.labels[lb[0]] is None:\n",
    "                        raise AssemblyError(\n",
    "                            'Assembly error on line {:d}: undefined label \"{}\"'.format(lineno, code[-1]))\n",
    "                    if len(lb) == 1:\n",
    "                        operator = self.labels[lb[0]]\n",
    "                    else:\n",
    "                        operator = self.labels[lb[0]] + int(lb[2]) if lb[1] == '+' else self.labels[lb[0]] - int(lb[2])\n",
    "                        \n",
    "        print('Operator: ', operator)\n",
    "        print('Operation: ', operation)\n",
    "\n",
    "        # Pseudo instruction\n",
    "        if operation in self.pseudo_table:\n",
    "            if operation != '#' and type(operator) != type(int()):\n",
    "                raise AssemblyError(\n",
    "                    'Assembly error on line {:d}: {} operator must be an integer!'.format(lineno, operation))\n",
    "\n",
    "            if operation == '@':\n",
    "                if operator > 0xFFFF:\n",
    "                    raise AssemblyError(\n",
    "                        'Assembly error on line {:d}: operator out of range \"{:0x}\"'.format(lineno, operator))\n",
    "                # elif operator < 0x0100:\n",
    "                #     raise AssemblyError('Assembly error on line {:d}: memory area before 0x0100 should never be accessed'.format(lineno))\n",
    "                self.list(line=lineno, code=code, comment=comment)\n",
    "                if self.step == 2 and self.instruction_counter != None:  # New code block, save current\n",
    "                    self.save_obj()\n",
    "                    self.obj_code = []\n",
    "                self.initial_address = operator\n",
    "                self.instruction_counter = operator\n",
    "\n",
    "            elif operation == '$':\n",
    "                if operator > 0xFFF:\n",
    "                    raise AssemblyError(\n",
    "                        'Assembly error on line {:d}: operator out of range \"{:0x}\"'.format(lineno, operator))\n",
    "                self.list(line=lineno, code=code, comment=comment, address=self.instruction_counter)\n",
    "                self.instruction_counter += operator\n",
    "                if self.step == 2:\n",
    "                    self.obj_code.extend([c_uint8(0)] * operator)\n",
    "\n",
    "            elif operation == 'K':\n",
    "                if operator > 0xFF:\n",
    "                    raise AssemblyError(\n",
    "                        'Assembly error on line {:d}: operator out of range \"{:0x}\"'.format(lineno, operator))\n",
    "                self.list(line=lineno, code=code, comment=comment, address=self.instruction_counter, object=operator)\n",
    "                if self.step == 2:\n",
    "                    self.obj_code.append(c_uint8(operator))\n",
    "                self.instruction_counter += 1\n",
    "\n",
    "            elif self.step == 2 and operation == '#':\n",
    "                if operator > 0xFFFF:\n",
    "                    raise AssemblyError(\n",
    "                        'Assembly error on line {:d}: operator out of range \"{:0x}\"'.format(lineno, operator))\n",
    "                self.list(line=lineno, code=code, comment=comment)\n",
    "                self.save_obj()\n",
    "                self.initial_address = 0x0022\n",
    "                self.obj_code = [c_uint8(operator >> 8), c_uint8(operator & 0xFF)]\n",
    "\n",
    "        # Normal instruction\n",
    "        else:\n",
    "            instruction_size = self.mnemonics_table[operation][1]\n",
    "            if self.step == 1:\n",
    "                self.instruction_counter += instruction_size\n",
    "                return\n",
    "\n",
    "            if instruction_size == 1:\n",
    "                obj_code = self.mnemonics_table[operation][0] << 4 | operator\n",
    "                self.obj_code.append(c_uint8(obj_code))\n",
    "            elif instruction_size == 2:\n",
    "                obj_code = self.mnemonics_table[operation][0] << 12 | operator\n",
    "                self.obj_code.append(c_uint8(obj_code >> 8))\n",
    "                self.obj_code.append(c_uint8(obj_code & 0xFF))\n",
    "\n",
    "            self.list(line=lineno, code=code, comment=comment, address=self.instruction_counter, object=obj_code)\n",
    "            self.instruction_counter += instruction_size\n",
    "\n",
    "    def list(self, **kwargs):\n",
    "        if self.list_file is None or self.step != 2:\n",
    "            return\n",
    "\n",
    "        comm = '; {:s}'.format(kwargs['comment']) if 'comment' in kwargs and kwargs['comment'] != '' else ''\n",
    "        addr = '{:-04X}'.format(kwargs['address']) if 'address' in kwargs else '    '\n",
    "        obj = '{:-6X}'.format(kwargs['object']) if 'object' in kwargs else '      '\n",
    "        code = '{:s} '.format(' '.join(kwargs['code'])) if 'code' in kwargs else ''\n",
    "        line = '{:-4d}'.format(kwargs['line']) if 'line' in kwargs else '    '\n",
    "\n",
    "        with open(self.list_file, 'a') as f:\n",
    "            print('   {}   {}    {}   {}{}'.format(\n",
    "                addr, obj, line, code, comm), file=f)\n",
    "\n",
    "    def dump_label_table(self):\n",
    "        if self.lb_table_file is None or self.step != 1:\n",
    "            return\n",
    "\n",
    "        with open(self.lb_table_file, 'a') as f:\n",
    "            for label in self.labels:\n",
    "                print('{:<15s}  {:>04X}'.format(label, self.labels[label]), file=f)\n",
    "\n",
    "    def save_obj(self):\n",
    "        if self.step != 2:\n",
    "            return\n",
    "\n",
    "        logger.debug('Saving object')\n",
    "\n",
    "        obj_codes = [self.obj_code[x:x + 0xFF] for x in range(0, len(self.obj_code), 0xFF)]  # Split into FF\n",
    "\n",
    "        pc = self.initial_address\n",
    "        for obj in obj_codes:\n",
    "            chk = c_uint8(0xFF)\n",
    "            with open(self.obj_file + '.{:d}'.format(self.current_object_file), 'w') as f:\n",
    "                with open(self.obj_file + '.bin.{:d}'.format(self.current_object_file), 'wb') as fb:\n",
    "                    fb.write(pc.to_bytes(2, 'big'))\n",
    "                    fb.write((len(obj) & 0xFF).to_bytes(1, 'big'))\n",
    "                    print('{:02X} {:02X}'.format(pc >> 8, pc & 0xFF), end=' ', file=f)\n",
    "                    print('{:02X}'.format(len(obj)), end=' ', file=f)\n",
    "\n",
    "                    i = 3\n",
    "                    for o in obj:\n",
    "                        fb.write((o.value & 0xFF).to_bytes(1, 'big'))\n",
    "                        print('{:02X}'.format(o.value), end=' ', file=f)\n",
    "\n",
    "                        chk.value ^= o.value\n",
    "                        i += 1\n",
    "                        pc += 1\n",
    "                        if i % 16 == 0:  # Break line every few elements to improve readability\n",
    "                            print('', file=f)\n",
    "\n",
    "                    fb.write((chk.value & 0xFF).to_bytes(1, 'big'))\n",
    "                    print('{:02X}'.format(chk.value), end='', file=f)\n",
    "\n",
    "                    self.current_object_file += 1\n"
   ]
  },
  {
   "cell_type": "code",
   "execution_count": 299,
   "metadata": {
    "collapsed": true
   },
   "outputs": [],
   "source": [
    "assemblier = Assembler(filen='./src/files/loader.asm')"
   ]
  },
  {
   "cell_type": "code",
   "execution_count": 300,
   "metadata": {},
   "outputs": [
    {
     "name": "stdout",
     "output_type": "stream",
     "text": [
      "Aquiiiiii\n",
      "['@', '/0000']\n",
      "Operator:  0\n",
      "Operation:  @\n",
      "Aquiiiiii\n",
      "['INIT', 'IO', '/1']\n",
      "Operator:  1\n",
      "Operation:  IO\n",
      "Aquiiiiii\n",
      "['MM', 'IADDR']\n",
      "Operator:  None\n",
      "Operation:  MM\n",
      "Aquiiiiii\n",
      "['IO', '/1']\n",
      "Operator:  1\n",
      "Operation:  IO\n",
      "Aquiiiiii\n",
      "['MM', 'IADDR+1']\n",
      "Operator:  None\n",
      "Operation:  MM\n",
      "Aquiiiiii\n",
      "['IO', '/1']\n",
      "Operator:  1\n",
      "Operation:  IO\n",
      "Aquiiiiii\n",
      "['MM', 'SIZE']\n",
      "Operator:  None\n",
      "Operation:  MM\n",
      "Aquiiiiii\n",
      "['LOOP', 'IO', '/1']\n",
      "Operator:  1\n",
      "Operation:  IO\n",
      "Aquiiiiii\n",
      "['CN', '/2']\n",
      "Operator:  2\n",
      "Operation:  CN\n",
      "Aquiiiiii\n",
      "['MM', 'IADDR']\n",
      "Operator:  None\n",
      "Operation:  MM\n",
      "Aquiiiiii\n",
      "['LD', 'IADDR+1']\n",
      "Operator:  None\n",
      "Operation:  LD\n",
      "Aquiiiiii\n",
      "['+', 'ONE']\n",
      "Operator:  None\n",
      "Operation:  +\n",
      "Aquiiiiii\n",
      "['MM', 'IADDR+1']\n",
      "Operator:  None\n",
      "Operation:  MM\n",
      "Aquiiiiii\n",
      "['LD', 'SIZE']\n",
      "Operator:  None\n",
      "Operation:  LD\n",
      "Aquiiiiii\n",
      "['-', 'ONE']\n",
      "Operator:  None\n",
      "Operation:  -\n",
      "Aquiiiiii\n",
      "['MM', 'SIZE']\n",
      "Operator:  None\n",
      "Operation:  MM\n",
      "Aquiiiiii\n",
      "['JZ', 'END']\n",
      "Operator:  None\n",
      "Operation:  JZ\n",
      "Aquiiiiii\n",
      "['JP', 'LOOP']\n",
      "Operator:  None\n",
      "Operation:  JP\n",
      "Aquiiiiii\n",
      "['END', 'OS', '/F']\n",
      "Operator:  15\n",
      "Operation:  OS\n",
      "Aquiiiiii\n",
      "['IADDR', 'K', '0']\n",
      "Operator:  0\n",
      "Operation:  K\n",
      "Aquiiiiii\n",
      "['K', '0']\n",
      "Operator:  0\n",
      "Operation:  K\n",
      "Aquiiiiii\n",
      "['SIZE', 'K', '0']\n",
      "Operator:  0\n",
      "Operation:  K\n",
      "Aquiiiiii\n",
      "['ONE', 'K', '1']\n",
      "Operator:  1\n",
      "Operation:  K\n",
      "Aquiiiiii\n",
      "['#', 'INIT']\n",
      "Operator:  None\n",
      "Operation:  #\n",
      "Aquiiiiii\n",
      "['@', '/0000']\n",
      "Operator:  0\n",
      "Operation:  @\n",
      "Aquiiiiii\n",
      "['INIT', 'IO', '/1']\n",
      "Operator:  1\n",
      "Operation:  IO\n",
      "Aquiiiiii\n",
      "['MM', 'IADDR']\n",
      "Operator:  30\n",
      "Operation:  MM\n",
      "Aquiiiiii\n",
      "['IO', '/1']\n",
      "Operator:  1\n",
      "Operation:  IO\n",
      "Aquiiiiii\n",
      "['MM', 'IADDR+1']\n",
      "Operator:  31\n",
      "Operation:  MM\n",
      "Aquiiiiii\n",
      "['IO', '/1']\n",
      "Operator:  1\n",
      "Operation:  IO\n",
      "Aquiiiiii\n",
      "['MM', 'SIZE']\n",
      "Operator:  32\n",
      "Operation:  MM\n",
      "Aquiiiiii\n",
      "['LOOP', 'IO', '/1']\n",
      "Operator:  1\n",
      "Operation:  IO\n",
      "Aquiiiiii\n",
      "['CN', '/2']\n",
      "Operator:  2\n",
      "Operation:  CN\n",
      "Aquiiiiii\n",
      "['MM', 'IADDR']\n",
      "Operator:  30\n",
      "Operation:  MM\n",
      "Aquiiiiii\n",
      "['LD', 'IADDR+1']\n",
      "Operator:  31\n",
      "Operation:  LD\n",
      "Aquiiiiii\n",
      "['+', 'ONE']\n",
      "Operator:  33\n",
      "Operation:  +\n",
      "Aquiiiiii\n",
      "['MM', 'IADDR+1']\n",
      "Operator:  31\n",
      "Operation:  MM\n",
      "Aquiiiiii\n",
      "['LD', 'SIZE']\n",
      "Operator:  32\n",
      "Operation:  LD\n",
      "Aquiiiiii\n",
      "['-', 'ONE']\n",
      "Operator:  33\n",
      "Operation:  -\n",
      "Aquiiiiii\n",
      "['MM', 'SIZE']\n",
      "Operator:  32\n",
      "Operation:  MM\n",
      "Aquiiiiii\n",
      "['JZ', 'END']\n",
      "Operator:  29\n",
      "Operation:  JZ\n",
      "Aquiiiiii\n",
      "['JP', 'LOOP']\n",
      "Operator:  9\n",
      "Operation:  JP\n",
      "Aquiiiiii\n",
      "['END', 'OS', '/F']\n",
      "Operator:  15\n",
      "Operation:  OS\n",
      "Aquiiiiii\n",
      "['IADDR', 'K', '0']\n",
      "Operator:  0\n",
      "Operation:  K\n",
      "Aquiiiiii\n",
      "['K', '0']\n",
      "Operator:  0\n",
      "Operation:  K\n",
      "Aquiiiiii\n",
      "['SIZE', 'K', '0']\n",
      "Operator:  0\n",
      "Operation:  K\n",
      "Aquiiiiii\n",
      "['ONE', 'K', '1']\n",
      "Operator:  1\n",
      "Operation:  K\n",
      "Aquiiiiii\n",
      "['#', 'INIT']\n",
      "Operator:  0\n",
      "Operation:  #\n"
     ]
    }
   ],
   "source": [
    "assemblier.assemble()"
   ]
  },
  {
   "cell_type": "code",
   "execution_count": 301,
   "metadata": {},
   "outputs": [
    {
     "data": {
      "text/plain": [
       "{'END': 29, 'IADDR': 30, 'INIT': 0, 'LOOP': 9, 'ONE': 33, 'SIZE': 32}"
      ]
     },
     "execution_count": 301,
     "metadata": {},
     "output_type": "execute_result"
    }
   ],
   "source": [
    "assemblier.labels"
   ]
  },
  {
   "cell_type": "code",
   "execution_count": 296,
   "metadata": {},
   "outputs": [],
   "source": [
    "assemblier.dump_label_table()"
   ]
  },
  {
   "cell_type": "code",
   "execution_count": 298,
   "metadata": {},
   "outputs": [
    {
     "data": {
      "text/plain": [
       "30"
      ]
     },
     "execution_count": 298,
     "metadata": {},
     "output_type": "execute_result"
    }
   ],
   "source": [
    "0x1E"
   ]
  },
  {
   "cell_type": "code",
   "execution_count": null,
   "metadata": {
    "collapsed": true
   },
   "outputs": [],
   "source": []
  }
 ],
 "metadata": {
  "kernelspec": {
   "display_name": "Python 3",
   "language": "python",
   "name": "python3"
  },
  "language_info": {
   "codemirror_mode": {
    "name": "ipython",
    "version": 3
   },
   "file_extension": ".py",
   "mimetype": "text/x-python",
   "name": "python",
   "nbconvert_exporter": "python",
   "pygments_lexer": "ipython3",
   "version": "3.6.3"
  }
 },
 "nbformat": 4,
 "nbformat_minor": 2
}
